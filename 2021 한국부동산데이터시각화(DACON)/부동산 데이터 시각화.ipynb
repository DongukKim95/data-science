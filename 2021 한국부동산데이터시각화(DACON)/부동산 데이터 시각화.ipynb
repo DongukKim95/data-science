{
 "cells": [
  {
   "cell_type": "code",
   "execution_count": 1,
   "metadata": {},
   "outputs": [],
   "source": [
    "import pandas as pd"
   ]
  },
  {
   "cell_type": "code",
   "execution_count": 5,
   "metadata": {},
   "outputs": [],
   "source": [
    "folder = '235724_한국 부동산 데이터 시각화 경진대회_data/'\n",
    "data_names = [data_permit, data_ordamt, data_unsold, data_rprice, data_mprice, data_permit2,\n",
    "             data_kb1, data_kb2, data_cprice]\n",
    "\n",
    "data_permit = pd.read_csv(folder + '건축허가현황.csv')\n",
    "data_ordamt = pd.read_csv(folder + '국내건설수주액.csv')\n",
    "data_unsold = pd.read_csv(folder + '미분양주택현황.csv')\n",
    "data_rprice = data_kb1= pd.read_csv(folder + '유형별_주택월세통합가격지수.csv')\n",
    "data_permit2 = pd.read_csv(folder + '주택건설인허가실적.csv')\n",
    "data_kb1 = pd.read_csv(folder + '주택매매가격지수(KB).csv')\n",
    "data_kb2 = pd.read_csv(folder + '주택전세가격지수(KB).csv')\n",
    "data_cprice = pd.read_csv(folder + '지역별_지가변동률.csv')"
   ]
  },
  {
   "cell_type": "code",
   "execution_count": null,
   "metadata": {},
   "outputs": [],
   "source": [
    "for data in data_names:\n",
    "    data."
   ]
  }
 ],
 "metadata": {
  "kernelspec": {
   "display_name": "Python 3",
   "language": "python",
   "name": "python3"
  },
  "language_info": {
   "codemirror_mode": {
    "name": "ipython",
    "version": 3
   },
   "file_extension": ".py",
   "mimetype": "text/x-python",
   "name": "python",
   "nbconvert_exporter": "python",
   "pygments_lexer": "ipython3",
   "version": "3.8.5"
  }
 },
 "nbformat": 4,
 "nbformat_minor": 4
}
