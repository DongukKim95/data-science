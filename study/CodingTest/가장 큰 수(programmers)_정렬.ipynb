{
 "cells": [
  {
   "cell_type": "markdown",
   "metadata": {},
   "source": [
    "https://programmers.co.kr/learn/courses/30/lessons/42746"
   ]
  },
  {
   "cell_type": "markdown",
   "metadata": {},
   "source": [
    "문제 설명\n",
    "0 또는 양의 정수가 주어졌을 때, 정수를 이어 붙여 만들 수 있는 가장 큰 수를 알아내 주세요.\n",
    "\n",
    "예를 들어, 주어진 정수가 [6, 10, 2]라면 [6102, 6210, 1062, 1026, 2610, 2106]를 만들 수 있고, 이중 가장 큰 수는 6210입니다.\n",
    "\n",
    "0 또는 양의 정수가 담긴 배열 numbers가 매개변수로 주어질 때, 순서를 재배치하여 만들 수 있는 가장 큰 수를 문자열로 바꾸어 return 하도록 solution 함수를 작성해주세요.\n",
    "\n",
    "제한 사항\n",
    "numbers의 길이는 1 이상 100,000 이하입니다.\n",
    "numbers의 원소는 0 이상 1,000 이하입니다.\n",
    "정답이 너무 클 수 있으니 문자열로 바꾸어 return 합니다.\n",
    "입출력 예\n",
    "numbers\treturn\n",
    "[6, 10, 2]\t\"6210\"\n",
    "[3, 30, 34, 5, 9]\t\"9534330\""
   ]
  },
  {
   "cell_type": "code",
   "execution_count": 1,
   "metadata": {},
   "outputs": [],
   "source": [
    "def solution(numbers):\n",
    "    answer = ''.join(sorted(map(str, numbers), key=lambda x: x*3, reverse=True))\n",
    "    answer = str(int(answer))\n",
    "    return answer"
   ]
  },
  {
   "cell_type": "markdown",
   "metadata": {},
   "source": [
    "## 참고할만한 코드"
   ]
  },
  {
   "cell_type": "code",
   "execution_count": 2,
   "metadata": {},
   "outputs": [],
   "source": [
    "import functools\n",
    "\n",
    "def comparator(a,b):\n",
    "    t1 = a+b\n",
    "    t2 = b+a\n",
    "    return (int(t1) > int(t2)) - (int(t1) < int(t2)) #  t1이 크다면 1  // t2가 크다면 -1  //  같으면 0\n",
    "\n",
    "def solution(numbers):\n",
    "    n = [str(x) for x in numbers]\n",
    "    n = sorted(n, key=functools.cmp_to_key(comparator),reverse=True)\n",
    "    answer = str(int(''.join(n)))\n",
    "    return answer"
   ]
  },
  {
   "cell_type": "code",
   "execution_count": 3,
   "metadata": {},
   "outputs": [],
   "source": [
    "from functools import cmp_to_key\n",
    "\n",
    "def solution(numbers):\n",
    "    numbers = list(map(lambda x: str(x), numbers))\n",
    "    numbers = sorted(numbers, key=cmp_to_key(lambda a, b: -1 if a+b >= b+a else 1))\n",
    "    answer = ''.join(numbers)\n",
    "\n",
    "    return str(int(answer))"
   ]
  },
  {
   "cell_type": "code",
   "execution_count": null,
   "metadata": {},
   "outputs": [],
   "source": []
  }
 ],
 "metadata": {
  "kernelspec": {
   "display_name": "Python 3",
   "language": "python",
   "name": "python3"
  },
  "language_info": {
   "codemirror_mode": {
    "name": "ipython",
    "version": 3
   },
   "file_extension": ".py",
   "mimetype": "text/x-python",
   "name": "python",
   "nbconvert_exporter": "python",
   "pygments_lexer": "ipython3",
   "version": "3.7.3"
  }
 },
 "nbformat": 4,
 "nbformat_minor": 2
}
