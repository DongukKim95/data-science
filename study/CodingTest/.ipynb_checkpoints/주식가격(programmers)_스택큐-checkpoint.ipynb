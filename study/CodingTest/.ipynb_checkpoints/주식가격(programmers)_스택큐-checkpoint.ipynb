{
 "cells": [
  {
   "cell_type": "markdown",
   "metadata": {},
   "source": [
    "https://programmers.co.kr/learn/courses/30/lessons/42584"
   ]
  },
  {
   "cell_type": "code",
   "execution_count": 1,
   "metadata": {},
   "outputs": [],
   "source": [
    "# 효율성 테스트 에러 코드\n",
    "def solution(prices):\n",
    "    queue = []\n",
    "    answer = []\n",
    "    cnt = 0\n",
    "    \n",
    "    for i, p in enumerate(prices):\n",
    "        queue.append([True, p, 0])\n",
    "        \n",
    "        if cnt != 0:\n",
    "            for j in range(i):\n",
    "                if queue[j][0]:\n",
    "                    queue[j][2] += 1\n",
    "                    if p < queue[j][1]:\n",
    "                        queue[j][0] = False\n",
    "        \n",
    "        cnt += 1\n",
    "        \n",
    "    answer = [q[2] for q in queue]\n",
    "    \n",
    "    return answer"
   ]
  },
  {
   "cell_type": "code",
   "execution_count": 2,
   "metadata": {},
   "outputs": [],
   "source": [
    "# 수정 코드\n",
    "def solution(prices):\n",
    "    answer = []\n",
    "    \n",
    "    for i in range(len(prices)):\n",
    "        flag = True\n",
    "        \n",
    "        for j in range(i+1, len(prices)):\n",
    "            if prices[i] > prices[j]:\n",
    "                answer.append(j-i)\n",
    "                flag = False\n",
    "                break\n",
    "            \n",
    "        if flag:\n",
    "            answer.append(j-i)\n",
    "        \n",
    "    return answer"
   ]
  },
  {
   "cell_type": "markdown",
   "metadata": {},
   "source": [
    "## 참고 풀이"
   ]
  },
  {
   "cell_type": "code",
   "execution_count": null,
   "metadata": {},
   "outputs": [],
   "source": [
    "def solution(prices):\n",
    "    answer = [0] * len(prices)\n",
    "    for i in range(len(prices)):\n",
    "        for j in range(i+1, len(prices)):\n",
    "            if prices[i] <= prices[j]:\n",
    "                answer[i] += 1\n",
    "            else:\n",
    "                answer[i] += 1\n",
    "                break\n",
    "    return answer"
   ]
  }
 ],
 "metadata": {
  "kernelspec": {
   "display_name": "Python 3",
   "language": "python",
   "name": "python3"
  },
  "language_info": {
   "codemirror_mode": {
    "name": "ipython",
    "version": 3
   },
   "file_extension": ".py",
   "mimetype": "text/x-python",
   "name": "python",
   "nbconvert_exporter": "python",
   "pygments_lexer": "ipython3",
   "version": "3.7.3"
  }
 },
 "nbformat": 4,
 "nbformat_minor": 2
}
