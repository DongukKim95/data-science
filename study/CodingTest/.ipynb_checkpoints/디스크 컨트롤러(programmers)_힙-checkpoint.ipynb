{
 "cells": [
  {
   "cell_type": "markdown",
   "metadata": {},
   "source": [
    "https://programmers.co.kr/learn/courses/30/lessons/42627#"
   ]
  },
  {
   "cell_type": "code",
   "execution_count": 31,
   "metadata": {},
   "outputs": [],
   "source": [
    "import heapq\n",
    "\n",
    "def solution(jobs):\n",
    "    heapq.heapify(jobs)\n",
    "    heap = []\n",
    "\n",
    "    length = len(jobs)\n",
    "    time = 0\n",
    "    time_sum = 0\n",
    "    now = 0\n",
    "    flag = False\n",
    "\n",
    "    while True:\n",
    "        #print(time, time_sum, jobs, heap, flag)\n",
    "        if jobs == [] and heap == []:\n",
    "            break\n",
    "\n",
    "        while True:\n",
    "            if jobs == []:\n",
    "                break\n",
    "\n",
    "            if jobs[0][0] <= time:\n",
    "                t1 = heapq.heappop(jobs)\n",
    "                heapq.heappush(heap, (t1[1], t1[0]))\n",
    "            else:\n",
    "                break\n",
    "\n",
    "        #print(time, time_sum, jobs, heap, flag)\n",
    "        if heap:\n",
    "            t2 = heapq.heappop(heap)\n",
    "            if flag:\n",
    "                time_sum += t2[0]\n",
    "                time += t2[0]\n",
    "                flag = False\n",
    "            else:\n",
    "                time_sum += (t2[0] + time - t2[1])\n",
    "                time += t2[0]\n",
    "        else:\n",
    "            time = jobs[0][0]\n",
    "            flag = True\n",
    "\n",
    "\n",
    "    return int((time_sum) / length)"
   ]
  },
  {
   "cell_type": "code",
   "execution_count": 32,
   "metadata": {},
   "outputs": [
    {
     "data": {
      "text/plain": [
       "72"
      ]
     },
     "execution_count": 32,
     "metadata": {},
     "output_type": "execute_result"
    }
   ],
   "source": [
    "solution([[24, 10], [28, 39], [43, 20], [37, 5], [47, 22], [20, 47], [15, 2], [15, 34], [35, 43], [26, 1]])"
   ]
  },
  {
   "cell_type": "markdown",
   "metadata": {},
   "source": [
    "## 참고 코드"
   ]
  },
  {
   "cell_type": "code",
   "execution_count": 33,
   "metadata": {},
   "outputs": [],
   "source": [
    "def solution(jobs: list) -> int: \n",
    "    answer, now, i = [0] * 3 \n",
    "    start = -1 \n",
    "    heap = [] \n",
    "    while i < len(jobs): \n",
    "        for request, need in jobs: \n",
    "            if start < request <= now: \n",
    "                heapq.heappush(heap, (need, request)) \n",
    "        if heap: \n",
    "            need, request = heapq.heappop(heap)\n",
    "            start = now \n",
    "            now += need \n",
    "            answer += now - request \n",
    "            i += 1\n",
    "        else: now += 1 \n",
    "        \n",
    "    answer //= len(jobs) \n",
    "    \n",
    "    return answer"
   ]
  },
  {
   "cell_type": "code",
   "execution_count": null,
   "metadata": {},
   "outputs": [],
   "source": []
  }
 ],
 "metadata": {
  "kernelspec": {
   "display_name": "Python 3",
   "language": "python",
   "name": "python3"
  },
  "language_info": {
   "codemirror_mode": {
    "name": "ipython",
    "version": 3
   },
   "file_extension": ".py",
   "mimetype": "text/x-python",
   "name": "python",
   "nbconvert_exporter": "python",
   "pygments_lexer": "ipython3",
   "version": "3.7.3"
  }
 },
 "nbformat": 4,
 "nbformat_minor": 2
}
