{
 "cells": [
  {
   "cell_type": "markdown",
   "metadata": {},
   "source": [
    "https://programmers.co.kr/learn/courses/30/lessons/42840"
   ]
  },
  {
   "cell_type": "code",
   "execution_count": 1,
   "metadata": {},
   "outputs": [],
   "source": [
    "def solution(answers):\n",
    "    l = len(answers)\n",
    "\n",
    "    n1 = [1, 2, 3, 4, 5, 1, 2, 3, 4, 5] * (l//10 + 1)\n",
    "    n2 = [2, 1, 2, 3, 2, 4, 2, 5] * (l//8 + 1)\n",
    "    n3 = [3, 3, 1, 1, 2, 2, 4, 4, 5, 5] * (l//10 + 1)\n",
    "\n",
    "    n1_cnt = 0\n",
    "    n2_cnt = 0\n",
    "    n3_cnt = 0\n",
    "\n",
    "    for i in range(l):\n",
    "        if answers[i] == n1[i]:\n",
    "            n1_cnt += 1\n",
    "        if answers[i] == n2[i]:\n",
    "            n2_cnt += 1\n",
    "        if answers[i] == n3[i]:\n",
    "            n3_cnt += 1\n",
    "\n",
    "    cnt_l = [n1_cnt, n2_cnt, n3_cnt]\n",
    "    answer = []\n",
    "\n",
    "    for i, c in enumerate(cnt_l):\n",
    "        if c == max(cnt_l):\n",
    "            answer.append(i+1)\n",
    "\n",
    "    return answer"
   ]
  },
  {
   "cell_type": "markdown",
   "metadata": {},
   "source": [
    "## 참고 코드"
   ]
  },
  {
   "cell_type": "code",
   "execution_count": 2,
   "metadata": {},
   "outputs": [],
   "source": [
    "def solution(answers):\n",
    "    pattern1 = [1,2,3,4,5]\n",
    "    pattern2 = [2,1,2,3,2,4,2,5]\n",
    "    pattern3 = [3,3,1,1,2,2,4,4,5,5]\n",
    "    score = [0, 0, 0]\n",
    "    result = []\n",
    "\n",
    "    for idx, answer in enumerate(answers):\n",
    "        if answer == pattern1[idx%len(pattern1)]:\n",
    "            score[0] += 1\n",
    "        if answer == pattern2[idx%len(pattern2)]:\n",
    "            score[1] += 1\n",
    "        if answer == pattern3[idx%len(pattern3)]:\n",
    "            score[2] += 1\n",
    "\n",
    "    for idx, s in enumerate(score):\n",
    "        if s == max(score):\n",
    "            result.append(idx+1)\n",
    "\n",
    "    return result"
   ]
  },
  {
   "cell_type": "code",
   "execution_count": null,
   "metadata": {},
   "outputs": [],
   "source": []
  }
 ],
 "metadata": {
  "kernelspec": {
   "display_name": "Python 3",
   "language": "python",
   "name": "python3"
  },
  "language_info": {
   "codemirror_mode": {
    "name": "ipython",
    "version": 3
   },
   "file_extension": ".py",
   "mimetype": "text/x-python",
   "name": "python",
   "nbconvert_exporter": "python",
   "pygments_lexer": "ipython3",
   "version": "3.7.3"
  }
 },
 "nbformat": 4,
 "nbformat_minor": 2
}
