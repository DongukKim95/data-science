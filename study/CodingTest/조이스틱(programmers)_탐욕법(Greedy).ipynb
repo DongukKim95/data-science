{
 "cells": [
  {
   "cell_type": "markdown",
   "metadata": {},
   "source": [
    "https://programmers.co.kr/learn/courses/30/lessons/42860#"
   ]
  },
  {
   "cell_type": "code",
   "execution_count": 48,
   "metadata": {},
   "outputs": [],
   "source": [
    "# 문제 복잡.. Greedy 문제가 아님\n",
    "def solution(name):\n",
    "    if set(name) == {'A'}:\n",
    "        return 0\n",
    "\n",
    "    answer = float('inf')\n",
    "    for i in range(len(name) // 2): # 반 이상 움직일 필요 없음\n",
    "        left_moved = name[-i:]+name[:-i]\n",
    "        right_moved = name[i:]+name[:i]\n",
    "        for n in [left_moved, right_moved[0]+right_moved[:0:-1]]:\n",
    "            while n and n[-1] == 'A':\n",
    "                n = n[:-1]\n",
    "\n",
    "            row_move = i + len(n)-1\n",
    "            col_move = 0\n",
    "            for c in map(ord, n):\n",
    "                col_move += min(c - 65, 91 - c)\n",
    "\n",
    "            answer = min(answer, row_move + col_move)\n",
    "\n",
    "    return answer"
   ]
  },
  {
   "cell_type": "markdown",
   "metadata": {},
   "source": [
    "## 참고 코드"
   ]
  },
  {
   "cell_type": "code",
   "execution_count": 30,
   "metadata": {},
   "outputs": [],
   "source": [
    "def solution(name):\n",
    "    if set(name) == {'A'}:\n",
    "        return 0\n",
    "\n",
    "    answer = float('inf')\n",
    "    for i in range(len(name) // 2): # 반 이상 움직일 필요 없음\n",
    "        left_moved = name[-i:]+name[:-i]\n",
    "        right_moved = name[i:]+name[:i]\n",
    "        for n in [left_moved, right_moved[0]+right_moved[:0:-1]]:\n",
    "            while n and n[-1] == 'A':\n",
    "                n = n[:-1]\n",
    "\n",
    "            row_move = i + len(n)-1\n",
    "            col_move = 0\n",
    "            for c in map(ord, n):\n",
    "                col_move += min(c - 65, 91 - c)\n",
    "\n",
    "            answer = min(answer, row_move + col_move)\n",
    "\n",
    "    return answer"
   ]
  },
  {
   "cell_type": "code",
   "execution_count": null,
   "metadata": {},
   "outputs": [],
   "source": []
  }
 ],
 "metadata": {
  "kernelspec": {
   "display_name": "Python 3",
   "language": "python",
   "name": "python3"
  },
  "language_info": {
   "codemirror_mode": {
    "name": "ipython",
    "version": 3
   },
   "file_extension": ".py",
   "mimetype": "text/x-python",
   "name": "python",
   "nbconvert_exporter": "python",
   "pygments_lexer": "ipython3",
   "version": "3.7.3"
  }
 },
 "nbformat": 4,
 "nbformat_minor": 2
}
