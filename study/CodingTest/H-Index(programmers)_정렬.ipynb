{
 "cells": [
  {
   "cell_type": "markdown",
   "metadata": {},
   "source": [
    "https://programmers.co.kr/learn/courses/30/lessons/42747"
   ]
  },
  {
   "cell_type": "code",
   "execution_count": 1,
   "metadata": {},
   "outputs": [],
   "source": [
    "def solution(citations):\n",
    "    answer = 0\n",
    "    for n in range(1, len(citations)+1):\n",
    "        con_1 = ['' if c >= n else c for c in citations].count('')\n",
    "        con_2 = len(citations) - con_1\n",
    "        print(n, con_1, con_2)\n",
    "        if con_1 >= n and con_2 <= n:\n",
    "            answer = n\n",
    "\n",
    "    return answer"
   ]
  },
  {
   "cell_type": "markdown",
   "metadata": {},
   "source": [
    "## 참고 코드"
   ]
  },
  {
   "cell_type": "code",
   "execution_count": null,
   "metadata": {},
   "outputs": [],
   "source": [
    "def solution(citations):\n",
    "    citations = sorted(citations)\n",
    "    l = len(citations)\n",
    "    for i in range(l):\n",
    "        if citations[i] >= l-i:\n",
    "            return l-i\n",
    "    return 0\n",
    "\n",
    "# l-i : i인덱스 값과 같거나 큰 수의 개수\n",
    "# 문제에서는 [h번 이상 인용이 몇편인가? \n",
    "# -> 그 편수가 h이상인가?] 의 순서로 사고하도록 적어두었습니다만\n",
    "# 위의 경우는 [지금 몇 편이 남았는가? \n",
    "# -> 모든 인용횟수가 이 값보다 큰가?(가장 작은 값이 이 값보다 큰가?)]"
   ]
  }
 ],
 "metadata": {
  "kernelspec": {
   "display_name": "Python 3",
   "language": "python",
   "name": "python3"
  },
  "language_info": {
   "codemirror_mode": {
    "name": "ipython",
    "version": 3
   },
   "file_extension": ".py",
   "mimetype": "text/x-python",
   "name": "python",
   "nbconvert_exporter": "python",
   "pygments_lexer": "ipython3",
   "version": "3.7.3"
  }
 },
 "nbformat": 4,
 "nbformat_minor": 2
}
