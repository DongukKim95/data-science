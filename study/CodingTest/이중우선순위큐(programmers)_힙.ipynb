{
 "cells": [
  {
   "cell_type": "markdown",
   "metadata": {},
   "source": [
    "https://programmers.co.kr/learn/courses/30/lessons/42628"
   ]
  },
  {
   "cell_type": "code",
   "execution_count": 1,
   "metadata": {},
   "outputs": [],
   "source": [
    "def solution(operations):\n",
    "    answer = []\n",
    "    \n",
    "    for op in operations:\n",
    "        op1, op2 = op.split(' ')\n",
    "        op2 = int(op2)\n",
    "        \n",
    "        if op1 == 'I':\n",
    "            answer.append(op2)\n",
    "        elif op1 == 'D':\n",
    "            if not answer:\n",
    "                continue\n",
    "            else:\n",
    "                if op2 == -1:\n",
    "                    answer.remove((min(answer)))\n",
    "                else:\n",
    "                    answer.remove((max(answer)))\n",
    "    \n",
    "    if answer:\n",
    "        answer = [max(answer), min(answer)]\n",
    "    else:\n",
    "        answer = [0, 0]\n",
    "    \n",
    "    return answer"
   ]
  },
  {
   "cell_type": "code",
   "execution_count": null,
   "metadata": {},
   "outputs": [],
   "source": []
  }
 ],
 "metadata": {
  "kernelspec": {
   "display_name": "Python 3",
   "language": "python",
   "name": "python3"
  },
  "language_info": {
   "codemirror_mode": {
    "name": "ipython",
    "version": 3
   },
   "file_extension": ".py",
   "mimetype": "text/x-python",
   "name": "python",
   "nbconvert_exporter": "python",
   "pygments_lexer": "ipython3",
   "version": "3.7.3"
  }
 },
 "nbformat": 4,
 "nbformat_minor": 2
}
