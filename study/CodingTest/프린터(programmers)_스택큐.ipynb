{
 "cells": [
  {
   "cell_type": "markdown",
   "metadata": {},
   "source": [
    "https://programmers.co.kr/learn/courses/30/lessons/42587"
   ]
  },
  {
   "cell_type": "code",
   "execution_count": 1,
   "metadata": {},
   "outputs": [],
   "source": [
    "def solution(priorities, location):\n",
    "    m_cnt = 0\n",
    "    location_list = [0] * len(priorities)\n",
    "    location_list[location] = 1\n",
    "    \n",
    "    while len(priorities) > 0:\n",
    "        flag = True\n",
    "        \n",
    "        n = priorities.pop(0)\n",
    "        t = location_list.pop(0)\n",
    "        print(n, t, priorities, location_list)\n",
    "        \n",
    "        for i in range(len(priorities)):\n",
    "            if priorities[i] > n:\n",
    "                priorities.append(n)\n",
    "                location_list.append(t)\n",
    "                flag = False\n",
    "                break\n",
    "            \n",
    "        if flag:\n",
    "            m_cnt += 1\n",
    "            if t == 1:\n",
    "                return m_cnt"
   ]
  },
  {
   "cell_type": "markdown",
   "metadata": {},
   "source": [
    "## 참고 코드"
   ]
  },
  {
   "cell_type": "code",
   "execution_count": 2,
   "metadata": {},
   "outputs": [],
   "source": [
    "def solution(priorities, location):\n",
    "    queue =  [(i,p) for i,p in enumerate(priorities)]\n",
    "    answer = 0\n",
    "    while True:\n",
    "        cur = queue.pop(0)\n",
    "        if any(cur[1] < q[1] for q in queue):\n",
    "            queue.append(cur)\n",
    "        else:\n",
    "            answer += 1\n",
    "            if cur[0] == location:\n",
    "                return answer"
   ]
  },
  {
   "cell_type": "code",
   "execution_count": null,
   "metadata": {},
   "outputs": [],
   "source": []
  }
 ],
 "metadata": {
  "kernelspec": {
   "display_name": "Python 3",
   "language": "python",
   "name": "python3"
  },
  "language_info": {
   "codemirror_mode": {
    "name": "ipython",
    "version": 3
   },
   "file_extension": ".py",
   "mimetype": "text/x-python",
   "name": "python",
   "nbconvert_exporter": "python",
   "pygments_lexer": "ipython3",
   "version": "3.7.3"
  }
 },
 "nbformat": 4,
 "nbformat_minor": 2
}
