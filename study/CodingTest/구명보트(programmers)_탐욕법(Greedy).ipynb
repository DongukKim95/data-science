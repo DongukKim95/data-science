{
 "cells": [
  {
   "cell_type": "markdown",
   "metadata": {},
   "source": [
    "https://programmers.co.kr/learn/courses/30/lessons/42885"
   ]
  },
  {
   "cell_type": "code",
   "execution_count": 15,
   "metadata": {},
   "outputs": [],
   "source": [
    "import math\n",
    "\n",
    "def solution(people, limit):\n",
    "    people.sort(reverse=True)\n",
    "    cnt = 0\n",
    "    f_cnt = 0\n",
    "    e_cnt = len(people)-1\n",
    "    \n",
    "    while e_cnt - f_cnt >= 0:\n",
    "        if people[f_cnt] + 40 > limit or people[f_cnt] + people[e_cnt] > limit:\n",
    "            f_cnt += 1\n",
    "            cnt += 1\n",
    "        else:\n",
    "            f_cnt += 1\n",
    "            e_cnt -= 1\n",
    "            cnt += 1\n",
    "        \n",
    "    return cnt"
   ]
  },
  {
   "cell_type": "code",
   "execution_count": null,
   "metadata": {},
   "outputs": [],
   "source": []
  }
 ],
 "metadata": {
  "kernelspec": {
   "display_name": "Python 3",
   "language": "python",
   "name": "python3"
  },
  "language_info": {
   "codemirror_mode": {
    "name": "ipython",
    "version": 3
   },
   "file_extension": ".py",
   "mimetype": "text/x-python",
   "name": "python",
   "nbconvert_exporter": "python",
   "pygments_lexer": "ipython3",
   "version": "3.7.3"
  }
 },
 "nbformat": 4,
 "nbformat_minor": 2
}
