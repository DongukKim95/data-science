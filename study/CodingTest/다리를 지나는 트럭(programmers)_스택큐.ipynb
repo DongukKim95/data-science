{
 "cells": [
  {
   "cell_type": "markdown",
   "metadata": {},
   "source": [
    "https://programmers.co.kr/learn/courses/30/lessons/42583"
   ]
  },
  {
   "cell_type": "code",
   "execution_count": null,
   "metadata": {},
   "outputs": [],
   "source": [
    "def solution(bridge_length, weight, truck_weights):\n",
    "    queue = []\n",
    "    time = 1\n",
    "    truck_sum = 0\n",
    "    \n",
    "    while True:\n",
    "        if truck_weights != []:\n",
    "            if truck_sum + truck_weights[0] <= weight:\n",
    "                truck = truck_weights.pop(0)\n",
    "                truck_sum += truck\n",
    "                queue.append((truck, 0))\n",
    "        \n",
    "        queue = [(truck, t+1) for truck, t in queue]\n",
    "        time += 1\n",
    "        \n",
    "        while len(queue) > 0:\n",
    "            #print(time, queue)\n",
    "            if queue[0][1] == bridge_length:\n",
    "                truck_sum -= queue[0][0]\n",
    "                queue.pop(0)\n",
    "            else:\n",
    "                break\n",
    "        \n",
    "        if truck_weights == [] and queue == []:\n",
    "            break\n",
    "        \n",
    "    return time"
   ]
  },
  {
   "cell_type": "markdown",
   "metadata": {},
   "source": [
    "## 참고 코드"
   ]
  },
  {
   "cell_type": "code",
   "execution_count": null,
   "metadata": {},
   "outputs": [],
   "source": [
    "def solution(bridge_length, weight, truck_weights):\n",
    "    q=[0]*bridge_length\n",
    "    sec=0\n",
    "    while q:\n",
    "        sec+=1\n",
    "        q.pop(0)\n",
    "        if truck_weights:\n",
    "            if sum(q)+truck_weights[0]<=weight:\n",
    "                q.append(truck_weights.pop(0))\n",
    "            else:\n",
    "                q.append(0)\n",
    "    return sec"
   ]
  }
 ],
 "metadata": {
  "kernelspec": {
   "display_name": "Python 3",
   "language": "python",
   "name": "python3"
  },
  "language_info": {
   "codemirror_mode": {
    "name": "ipython",
    "version": 3
   },
   "file_extension": ".py",
   "mimetype": "text/x-python",
   "name": "python",
   "nbconvert_exporter": "python",
   "pygments_lexer": "ipython3",
   "version": "3.7.3"
  }
 },
 "nbformat": 4,
 "nbformat_minor": 2
}
